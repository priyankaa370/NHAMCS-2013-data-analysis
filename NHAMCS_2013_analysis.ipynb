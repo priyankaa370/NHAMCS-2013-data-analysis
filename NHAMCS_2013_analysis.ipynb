{
  "nbformat": 4,
  "nbformat_minor": 0,
  "metadata": {
    "colab": {
      "provenance": []
    },
    "kernelspec": {
      "name": "python3",
      "display_name": "Python 3"
    },
    "language_info": {
      "name": "python"
    }
  },
  "cells": [
    {
      "cell_type": "markdown",
      "source": [
        "# 2013 National Hospital Ambulatory Medical Care Survey - NHAMCS\n",
        "\n"
      ],
      "metadata": {
        "id": "oK57pmW1ofZr"
      }
    },
    {
      "cell_type": "markdown",
      "source": [
        "First of all, import all the essential libraries"
      ],
      "metadata": {
        "id": "nzP6tJIpo_36"
      }
    },
    {
      "cell_type": "code",
      "source": [
        "import pandas as pd\n",
        "from sklearn.model_selection import train_test_split\n",
        "from sklearn.ensemble import RandomForestClassifier\n",
        "from sklearn.feature_selection import SelectKBest, f_classif\n",
        "from sklearn.preprocessing import OneHotEncoder, StandardScaler\n",
        "from sklearn.compose import ColumnTransformer\n",
        "from sklearn.pipeline import Pipeline\n",
        "from sklearn.impute import SimpleImputer\n",
        "import numpy as np\n",
        "from sklearn.decomposition import PCA\n",
        "from sklearn.metrics import accuracy_score\n",
        "from sklearn.ensemble import RandomForestRegressor\n",
        "from sklearn.feature_selection import RFE\n",
        "from operator import itemgetter\n",
        "from scipy.stats import ttest_ind\n",
        "import matplotlib.pyplot as plt\n",
        "import seaborn as sns"
      ],
      "metadata": {
        "id": "gUN69Cc1o-_J"
      },
      "execution_count": null,
      "outputs": []
    },
    {
      "cell_type": "markdown",
      "source": [
        "Then import the dataset as ed2013"
      ],
      "metadata": {
        "id": "vvmt4S2zokAh"
      }
    },
    {
      "cell_type": "code",
      "execution_count": null,
      "metadata": {
        "id": "ue2qVxNeoauo"
      },
      "outputs": [],
      "source": [
        "ed2013 = pd.read_stata('https://ftp.cdc.gov/pub/health_statistics/nchs/dataset_documentation/nhamcs/stata/ED2013-stata.dta', convert_categoricals=False,\n",
        "convert_missing=True)"
      ]
    },
    {
      "cell_type": "code",
      "source": [
        "ed2013"
      ],
      "metadata": {
        "colab": {
          "base_uri": "https://localhost:8080/",
          "height": 443
        },
        "id": "LWryamC_466v",
        "outputId": "449d401f-8ecd-4c5e-e2fa-934031d2ecc0"
      },
      "execution_count": null,
      "outputs": [
        {
          "output_type": "execute_result",
          "data": {
            "text/plain": [
              "       VMONTH  VDAYR ARRTIME  WAITTIME   LOV  AGE  AGER  AGEDAYS  RESIDNCE  \\\n",
              "0           1      3    0647        33    58   46     4       -7         1   \n",
              "1           1      3    1841       109   150   56     4       -7         1   \n",
              "2           1      3    1333        84   198   37     3       -7         1   \n",
              "3           1      3    1401       159   276    7     1       -7         1   \n",
              "4           1      4    1947       114   248   53     4       -7         1   \n",
              "...       ...    ...     ...       ...   ...  ...   ...      ...       ...   \n",
              "24772       8      1    1925         0    69   27     3       -7         1   \n",
              "24773       8      1    0929         0   106   44     3       -7         1   \n",
              "24774       7      1    0116         0  1363    8     1       -7         1   \n",
              "24775       7      7    1300         0    30   73     5       -7         1   \n",
              "24776       7      6    2335        45   150   13     1       -7         1   \n",
              "\n",
              "       SEX  ...  RX12V3C1  RX12V3C2  RX12V3C3  RX12V3C4  SETTYPE  YEAR  \\\n",
              "0        2  ...                                                3  2013   \n",
              "1        2  ...                                                3  2013   \n",
              "2        2  ...                                                3  2013   \n",
              "3        1  ...                                                3  2013   \n",
              "4        1  ...                                                3  2013   \n",
              "...    ...  ...       ...       ...       ...       ...      ...   ...   \n",
              "24772    2  ...                                                3  2013   \n",
              "24773    1  ...                                                3  2013   \n",
              "24774    2  ...                                                3  2013   \n",
              "24775    1  ...                                                3  2013   \n",
              "24776    2  ...                                                3  2013   \n",
              "\n",
              "        CSTRATM   CPSUM  PATWT  EDWT  \n",
              "0      20113201  100020   2945     .  \n",
              "1      20113201  100020   2945     .  \n",
              "2      20113201  100020   2945     .  \n",
              "3      20113201  100020   2945     .  \n",
              "4      20113201  100020   2945     .  \n",
              "...         ...     ...    ...   ...  \n",
              "24772  40300000      23   3043     .  \n",
              "24773  40300000      23   3043     .  \n",
              "24774  40300000      23   3043     .  \n",
              "24775  40300000      23   3043     .  \n",
              "24776  40300000      23   3043     .  \n",
              "\n",
              "[24777 rows x 591 columns]"
            ],
            "text/html": [
              "\n",
              "  <div id=\"df-353bddcf-1cc4-43aa-bacc-f060a058bdca\" class=\"colab-df-container\">\n",
              "    <div>\n",
              "<style scoped>\n",
              "    .dataframe tbody tr th:only-of-type {\n",
              "        vertical-align: middle;\n",
              "    }\n",
              "\n",
              "    .dataframe tbody tr th {\n",
              "        vertical-align: top;\n",
              "    }\n",
              "\n",
              "    .dataframe thead th {\n",
              "        text-align: right;\n",
              "    }\n",
              "</style>\n",
              "<table border=\"1\" class=\"dataframe\">\n",
              "  <thead>\n",
              "    <tr style=\"text-align: right;\">\n",
              "      <th></th>\n",
              "      <th>VMONTH</th>\n",
              "      <th>VDAYR</th>\n",
              "      <th>ARRTIME</th>\n",
              "      <th>WAITTIME</th>\n",
              "      <th>LOV</th>\n",
              "      <th>AGE</th>\n",
              "      <th>AGER</th>\n",
              "      <th>AGEDAYS</th>\n",
              "      <th>RESIDNCE</th>\n",
              "      <th>SEX</th>\n",
              "      <th>...</th>\n",
              "      <th>RX12V3C1</th>\n",
              "      <th>RX12V3C2</th>\n",
              "      <th>RX12V3C3</th>\n",
              "      <th>RX12V3C4</th>\n",
              "      <th>SETTYPE</th>\n",
              "      <th>YEAR</th>\n",
              "      <th>CSTRATM</th>\n",
              "      <th>CPSUM</th>\n",
              "      <th>PATWT</th>\n",
              "      <th>EDWT</th>\n",
              "    </tr>\n",
              "  </thead>\n",
              "  <tbody>\n",
              "    <tr>\n",
              "      <th>0</th>\n",
              "      <td>1</td>\n",
              "      <td>3</td>\n",
              "      <td>0647</td>\n",
              "      <td>33</td>\n",
              "      <td>58</td>\n",
              "      <td>46</td>\n",
              "      <td>4</td>\n",
              "      <td>-7</td>\n",
              "      <td>1</td>\n",
              "      <td>2</td>\n",
              "      <td>...</td>\n",
              "      <td></td>\n",
              "      <td></td>\n",
              "      <td></td>\n",
              "      <td></td>\n",
              "      <td>3</td>\n",
              "      <td>2013</td>\n",
              "      <td>20113201</td>\n",
              "      <td>100020</td>\n",
              "      <td>2945</td>\n",
              "      <td>.</td>\n",
              "    </tr>\n",
              "    <tr>\n",
              "      <th>1</th>\n",
              "      <td>1</td>\n",
              "      <td>3</td>\n",
              "      <td>1841</td>\n",
              "      <td>109</td>\n",
              "      <td>150</td>\n",
              "      <td>56</td>\n",
              "      <td>4</td>\n",
              "      <td>-7</td>\n",
              "      <td>1</td>\n",
              "      <td>2</td>\n",
              "      <td>...</td>\n",
              "      <td></td>\n",
              "      <td></td>\n",
              "      <td></td>\n",
              "      <td></td>\n",
              "      <td>3</td>\n",
              "      <td>2013</td>\n",
              "      <td>20113201</td>\n",
              "      <td>100020</td>\n",
              "      <td>2945</td>\n",
              "      <td>.</td>\n",
              "    </tr>\n",
              "    <tr>\n",
              "      <th>2</th>\n",
              "      <td>1</td>\n",
              "      <td>3</td>\n",
              "      <td>1333</td>\n",
              "      <td>84</td>\n",
              "      <td>198</td>\n",
              "      <td>37</td>\n",
              "      <td>3</td>\n",
              "      <td>-7</td>\n",
              "      <td>1</td>\n",
              "      <td>2</td>\n",
              "      <td>...</td>\n",
              "      <td></td>\n",
              "      <td></td>\n",
              "      <td></td>\n",
              "      <td></td>\n",
              "      <td>3</td>\n",
              "      <td>2013</td>\n",
              "      <td>20113201</td>\n",
              "      <td>100020</td>\n",
              "      <td>2945</td>\n",
              "      <td>.</td>\n",
              "    </tr>\n",
              "    <tr>\n",
              "      <th>3</th>\n",
              "      <td>1</td>\n",
              "      <td>3</td>\n",
              "      <td>1401</td>\n",
              "      <td>159</td>\n",
              "      <td>276</td>\n",
              "      <td>7</td>\n",
              "      <td>1</td>\n",
              "      <td>-7</td>\n",
              "      <td>1</td>\n",
              "      <td>1</td>\n",
              "      <td>...</td>\n",
              "      <td></td>\n",
              "      <td></td>\n",
              "      <td></td>\n",
              "      <td></td>\n",
              "      <td>3</td>\n",
              "      <td>2013</td>\n",
              "      <td>20113201</td>\n",
              "      <td>100020</td>\n",
              "      <td>2945</td>\n",
              "      <td>.</td>\n",
              "    </tr>\n",
              "    <tr>\n",
              "      <th>4</th>\n",
              "      <td>1</td>\n",
              "      <td>4</td>\n",
              "      <td>1947</td>\n",
              "      <td>114</td>\n",
              "      <td>248</td>\n",
              "      <td>53</td>\n",
              "      <td>4</td>\n",
              "      <td>-7</td>\n",
              "      <td>1</td>\n",
              "      <td>1</td>\n",
              "      <td>...</td>\n",
              "      <td></td>\n",
              "      <td></td>\n",
              "      <td></td>\n",
              "      <td></td>\n",
              "      <td>3</td>\n",
              "      <td>2013</td>\n",
              "      <td>20113201</td>\n",
              "      <td>100020</td>\n",
              "      <td>2945</td>\n",
              "      <td>.</td>\n",
              "    </tr>\n",
              "    <tr>\n",
              "      <th>...</th>\n",
              "      <td>...</td>\n",
              "      <td>...</td>\n",
              "      <td>...</td>\n",
              "      <td>...</td>\n",
              "      <td>...</td>\n",
              "      <td>...</td>\n",
              "      <td>...</td>\n",
              "      <td>...</td>\n",
              "      <td>...</td>\n",
              "      <td>...</td>\n",
              "      <td>...</td>\n",
              "      <td>...</td>\n",
              "      <td>...</td>\n",
              "      <td>...</td>\n",
              "      <td>...</td>\n",
              "      <td>...</td>\n",
              "      <td>...</td>\n",
              "      <td>...</td>\n",
              "      <td>...</td>\n",
              "      <td>...</td>\n",
              "      <td>...</td>\n",
              "    </tr>\n",
              "    <tr>\n",
              "      <th>24772</th>\n",
              "      <td>8</td>\n",
              "      <td>1</td>\n",
              "      <td>1925</td>\n",
              "      <td>0</td>\n",
              "      <td>69</td>\n",
              "      <td>27</td>\n",
              "      <td>3</td>\n",
              "      <td>-7</td>\n",
              "      <td>1</td>\n",
              "      <td>2</td>\n",
              "      <td>...</td>\n",
              "      <td></td>\n",
              "      <td></td>\n",
              "      <td></td>\n",
              "      <td></td>\n",
              "      <td>3</td>\n",
              "      <td>2013</td>\n",
              "      <td>40300000</td>\n",
              "      <td>23</td>\n",
              "      <td>3043</td>\n",
              "      <td>.</td>\n",
              "    </tr>\n",
              "    <tr>\n",
              "      <th>24773</th>\n",
              "      <td>8</td>\n",
              "      <td>1</td>\n",
              "      <td>0929</td>\n",
              "      <td>0</td>\n",
              "      <td>106</td>\n",
              "      <td>44</td>\n",
              "      <td>3</td>\n",
              "      <td>-7</td>\n",
              "      <td>1</td>\n",
              "      <td>1</td>\n",
              "      <td>...</td>\n",
              "      <td></td>\n",
              "      <td></td>\n",
              "      <td></td>\n",
              "      <td></td>\n",
              "      <td>3</td>\n",
              "      <td>2013</td>\n",
              "      <td>40300000</td>\n",
              "      <td>23</td>\n",
              "      <td>3043</td>\n",
              "      <td>.</td>\n",
              "    </tr>\n",
              "    <tr>\n",
              "      <th>24774</th>\n",
              "      <td>7</td>\n",
              "      <td>1</td>\n",
              "      <td>0116</td>\n",
              "      <td>0</td>\n",
              "      <td>1363</td>\n",
              "      <td>8</td>\n",
              "      <td>1</td>\n",
              "      <td>-7</td>\n",
              "      <td>1</td>\n",
              "      <td>2</td>\n",
              "      <td>...</td>\n",
              "      <td></td>\n",
              "      <td></td>\n",
              "      <td></td>\n",
              "      <td></td>\n",
              "      <td>3</td>\n",
              "      <td>2013</td>\n",
              "      <td>40300000</td>\n",
              "      <td>23</td>\n",
              "      <td>3043</td>\n",
              "      <td>.</td>\n",
              "    </tr>\n",
              "    <tr>\n",
              "      <th>24775</th>\n",
              "      <td>7</td>\n",
              "      <td>7</td>\n",
              "      <td>1300</td>\n",
              "      <td>0</td>\n",
              "      <td>30</td>\n",
              "      <td>73</td>\n",
              "      <td>5</td>\n",
              "      <td>-7</td>\n",
              "      <td>1</td>\n",
              "      <td>1</td>\n",
              "      <td>...</td>\n",
              "      <td></td>\n",
              "      <td></td>\n",
              "      <td></td>\n",
              "      <td></td>\n",
              "      <td>3</td>\n",
              "      <td>2013</td>\n",
              "      <td>40300000</td>\n",
              "      <td>23</td>\n",
              "      <td>3043</td>\n",
              "      <td>.</td>\n",
              "    </tr>\n",
              "    <tr>\n",
              "      <th>24776</th>\n",
              "      <td>7</td>\n",
              "      <td>6</td>\n",
              "      <td>2335</td>\n",
              "      <td>45</td>\n",
              "      <td>150</td>\n",
              "      <td>13</td>\n",
              "      <td>1</td>\n",
              "      <td>-7</td>\n",
              "      <td>1</td>\n",
              "      <td>2</td>\n",
              "      <td>...</td>\n",
              "      <td></td>\n",
              "      <td></td>\n",
              "      <td></td>\n",
              "      <td></td>\n",
              "      <td>3</td>\n",
              "      <td>2013</td>\n",
              "      <td>40300000</td>\n",
              "      <td>23</td>\n",
              "      <td>3043</td>\n",
              "      <td>.</td>\n",
              "    </tr>\n",
              "  </tbody>\n",
              "</table>\n",
              "<p>24777 rows × 591 columns</p>\n",
              "</div>\n",
              "    <div class=\"colab-df-buttons\">\n",
              "\n",
              "  <div class=\"colab-df-container\">\n",
              "    <button class=\"colab-df-convert\" onclick=\"convertToInteractive('df-353bddcf-1cc4-43aa-bacc-f060a058bdca')\"\n",
              "            title=\"Convert this dataframe to an interactive table.\"\n",
              "            style=\"display:none;\">\n",
              "\n",
              "  <svg xmlns=\"http://www.w3.org/2000/svg\" height=\"24px\" viewBox=\"0 -960 960 960\">\n",
              "    <path d=\"M120-120v-720h720v720H120Zm60-500h600v-160H180v160Zm220 220h160v-160H400v160Zm0 220h160v-160H400v160ZM180-400h160v-160H180v160Zm440 0h160v-160H620v160ZM180-180h160v-160H180v160Zm440 0h160v-160H620v160Z\"/>\n",
              "  </svg>\n",
              "    </button>\n",
              "\n",
              "  <style>\n",
              "    .colab-df-container {\n",
              "      display:flex;\n",
              "      gap: 12px;\n",
              "    }\n",
              "\n",
              "    .colab-df-convert {\n",
              "      background-color: #E8F0FE;\n",
              "      border: none;\n",
              "      border-radius: 50%;\n",
              "      cursor: pointer;\n",
              "      display: none;\n",
              "      fill: #1967D2;\n",
              "      height: 32px;\n",
              "      padding: 0 0 0 0;\n",
              "      width: 32px;\n",
              "    }\n",
              "\n",
              "    .colab-df-convert:hover {\n",
              "      background-color: #E2EBFA;\n",
              "      box-shadow: 0px 1px 2px rgba(60, 64, 67, 0.3), 0px 1px 3px 1px rgba(60, 64, 67, 0.15);\n",
              "      fill: #174EA6;\n",
              "    }\n",
              "\n",
              "    .colab-df-buttons div {\n",
              "      margin-bottom: 4px;\n",
              "    }\n",
              "\n",
              "    [theme=dark] .colab-df-convert {\n",
              "      background-color: #3B4455;\n",
              "      fill: #D2E3FC;\n",
              "    }\n",
              "\n",
              "    [theme=dark] .colab-df-convert:hover {\n",
              "      background-color: #434B5C;\n",
              "      box-shadow: 0px 1px 3px 1px rgba(0, 0, 0, 0.15);\n",
              "      filter: drop-shadow(0px 1px 2px rgba(0, 0, 0, 0.3));\n",
              "      fill: #FFFFFF;\n",
              "    }\n",
              "  </style>\n",
              "\n",
              "    <script>\n",
              "      const buttonEl =\n",
              "        document.querySelector('#df-353bddcf-1cc4-43aa-bacc-f060a058bdca button.colab-df-convert');\n",
              "      buttonEl.style.display =\n",
              "        google.colab.kernel.accessAllowed ? 'block' : 'none';\n",
              "\n",
              "      async function convertToInteractive(key) {\n",
              "        const element = document.querySelector('#df-353bddcf-1cc4-43aa-bacc-f060a058bdca');\n",
              "        const dataTable =\n",
              "          await google.colab.kernel.invokeFunction('convertToInteractive',\n",
              "                                                    [key], {});\n",
              "        if (!dataTable) return;\n",
              "\n",
              "        const docLinkHtml = 'Like what you see? Visit the ' +\n",
              "          '<a target=\"_blank\" href=https://colab.research.google.com/notebooks/data_table.ipynb>data table notebook</a>'\n",
              "          + ' to learn more about interactive tables.';\n",
              "        element.innerHTML = '';\n",
              "        dataTable['output_type'] = 'display_data';\n",
              "        await google.colab.output.renderOutput(dataTable, element);\n",
              "        const docLink = document.createElement('div');\n",
              "        docLink.innerHTML = docLinkHtml;\n",
              "        element.appendChild(docLink);\n",
              "      }\n",
              "    </script>\n",
              "  </div>\n",
              "\n",
              "\n",
              "<div id=\"df-dc8d653f-bb8d-4180-abdc-19a030d851cd\">\n",
              "  <button class=\"colab-df-quickchart\" onclick=\"quickchart('df-dc8d653f-bb8d-4180-abdc-19a030d851cd')\"\n",
              "            title=\"Suggest charts\"\n",
              "            style=\"display:none;\">\n",
              "\n",
              "<svg xmlns=\"http://www.w3.org/2000/svg\" height=\"24px\"viewBox=\"0 0 24 24\"\n",
              "     width=\"24px\">\n",
              "    <g>\n",
              "        <path d=\"M19 3H5c-1.1 0-2 .9-2 2v14c0 1.1.9 2 2 2h14c1.1 0 2-.9 2-2V5c0-1.1-.9-2-2-2zM9 17H7v-7h2v7zm4 0h-2V7h2v10zm4 0h-2v-4h2v4z\"/>\n",
              "    </g>\n",
              "</svg>\n",
              "  </button>\n",
              "\n",
              "<style>\n",
              "  .colab-df-quickchart {\n",
              "      --bg-color: #E8F0FE;\n",
              "      --fill-color: #1967D2;\n",
              "      --hover-bg-color: #E2EBFA;\n",
              "      --hover-fill-color: #174EA6;\n",
              "      --disabled-fill-color: #AAA;\n",
              "      --disabled-bg-color: #DDD;\n",
              "  }\n",
              "\n",
              "  [theme=dark] .colab-df-quickchart {\n",
              "      --bg-color: #3B4455;\n",
              "      --fill-color: #D2E3FC;\n",
              "      --hover-bg-color: #434B5C;\n",
              "      --hover-fill-color: #FFFFFF;\n",
              "      --disabled-bg-color: #3B4455;\n",
              "      --disabled-fill-color: #666;\n",
              "  }\n",
              "\n",
              "  .colab-df-quickchart {\n",
              "    background-color: var(--bg-color);\n",
              "    border: none;\n",
              "    border-radius: 50%;\n",
              "    cursor: pointer;\n",
              "    display: none;\n",
              "    fill: var(--fill-color);\n",
              "    height: 32px;\n",
              "    padding: 0;\n",
              "    width: 32px;\n",
              "  }\n",
              "\n",
              "  .colab-df-quickchart:hover {\n",
              "    background-color: var(--hover-bg-color);\n",
              "    box-shadow: 0 1px 2px rgba(60, 64, 67, 0.3), 0 1px 3px 1px rgba(60, 64, 67, 0.15);\n",
              "    fill: var(--button-hover-fill-color);\n",
              "  }\n",
              "\n",
              "  .colab-df-quickchart-complete:disabled,\n",
              "  .colab-df-quickchart-complete:disabled:hover {\n",
              "    background-color: var(--disabled-bg-color);\n",
              "    fill: var(--disabled-fill-color);\n",
              "    box-shadow: none;\n",
              "  }\n",
              "\n",
              "  .colab-df-spinner {\n",
              "    border: 2px solid var(--fill-color);\n",
              "    border-color: transparent;\n",
              "    border-bottom-color: var(--fill-color);\n",
              "    animation:\n",
              "      spin 1s steps(1) infinite;\n",
              "  }\n",
              "\n",
              "  @keyframes spin {\n",
              "    0% {\n",
              "      border-color: transparent;\n",
              "      border-bottom-color: var(--fill-color);\n",
              "      border-left-color: var(--fill-color);\n",
              "    }\n",
              "    20% {\n",
              "      border-color: transparent;\n",
              "      border-left-color: var(--fill-color);\n",
              "      border-top-color: var(--fill-color);\n",
              "    }\n",
              "    30% {\n",
              "      border-color: transparent;\n",
              "      border-left-color: var(--fill-color);\n",
              "      border-top-color: var(--fill-color);\n",
              "      border-right-color: var(--fill-color);\n",
              "    }\n",
              "    40% {\n",
              "      border-color: transparent;\n",
              "      border-right-color: var(--fill-color);\n",
              "      border-top-color: var(--fill-color);\n",
              "    }\n",
              "    60% {\n",
              "      border-color: transparent;\n",
              "      border-right-color: var(--fill-color);\n",
              "    }\n",
              "    80% {\n",
              "      border-color: transparent;\n",
              "      border-right-color: var(--fill-color);\n",
              "      border-bottom-color: var(--fill-color);\n",
              "    }\n",
              "    90% {\n",
              "      border-color: transparent;\n",
              "      border-bottom-color: var(--fill-color);\n",
              "    }\n",
              "  }\n",
              "</style>\n",
              "\n",
              "  <script>\n",
              "    async function quickchart(key) {\n",
              "      const quickchartButtonEl =\n",
              "        document.querySelector('#' + key + ' button');\n",
              "      quickchartButtonEl.disabled = true;  // To prevent multiple clicks.\n",
              "      quickchartButtonEl.classList.add('colab-df-spinner');\n",
              "      try {\n",
              "        const charts = await google.colab.kernel.invokeFunction(\n",
              "            'suggestCharts', [key], {});\n",
              "      } catch (error) {\n",
              "        console.error('Error during call to suggestCharts:', error);\n",
              "      }\n",
              "      quickchartButtonEl.classList.remove('colab-df-spinner');\n",
              "      quickchartButtonEl.classList.add('colab-df-quickchart-complete');\n",
              "    }\n",
              "    (() => {\n",
              "      let quickchartButtonEl =\n",
              "        document.querySelector('#df-dc8d653f-bb8d-4180-abdc-19a030d851cd button');\n",
              "      quickchartButtonEl.style.display =\n",
              "        google.colab.kernel.accessAllowed ? 'block' : 'none';\n",
              "    })();\n",
              "  </script>\n",
              "</div>\n",
              "    </div>\n",
              "  </div>\n"
            ]
          },
          "metadata": {},
          "execution_count": 5
        }
      ]
    },
    {
      "cell_type": "markdown",
      "source": [
        "**Data Preprocessing**"
      ],
      "metadata": {
        "id": "3s4ydiPwpGTM"
      }
    },
    {
      "cell_type": "code",
      "source": [
        "#drop the rows with missing values\n",
        "ed2013 = ed2013.dropna()"
      ],
      "metadata": {
        "id": "UeHkRI52pFT8"
      },
      "execution_count": null,
      "outputs": []
    },
    {
      "cell_type": "code",
      "source": [
        "# impute missing values with the mean\n",
        "ed2013 = ed2013.fillna(ed2013.mean())"
      ],
      "metadata": {
        "colab": {
          "base_uri": "https://localhost:8080/"
        },
        "id": "zf5WkbrSpTVA",
        "outputId": "6cb56010-e0df-4653-9562-375292e1068f"
      },
      "execution_count": null,
      "outputs": [
        {
          "output_type": "stream",
          "name": "stderr",
          "text": [
            "<ipython-input-9-b8827734793d>:2: FutureWarning: The default value of numeric_only in DataFrame.mean is deprecated. In a future version, it will default to False. In addition, specifying 'numeric_only=None' is deprecated. Select only valid columns or specify the value of numeric_only to silence this warning.\n",
            "  ed2013 = ed2013.fillna(ed2013.mean())\n"
          ]
        }
      ]
    },
    {
      "cell_type": "code",
      "source": [
        "#take a ook at all the columns\n",
        "ed2013.columns"
      ],
      "metadata": {
        "colab": {
          "base_uri": "https://localhost:8080/"
        },
        "id": "JEfhlJW6Hb8I",
        "outputId": "51ab3256-dcab-4400-f4a3-4124fee319d1"
      },
      "execution_count": null,
      "outputs": [
        {
          "output_type": "execute_result",
          "data": {
            "text/plain": [
              "Index(['VMONTH', 'VDAYR', 'ARRTIME', 'WAITTIME', 'LOV', 'AGE', 'AGER',\n",
              "       'AGEDAYS', 'RESIDNCE', 'SEX',\n",
              "       ...\n",
              "       'RX12V3C1', 'RX12V3C2', 'RX12V3C3', 'RX12V3C4', 'SETTYPE', 'YEAR',\n",
              "       'CSTRATM', 'CPSUM', 'PATWT', 'EDWT'],\n",
              "      dtype='object', length=591)"
            ]
          },
          "metadata": {},
          "execution_count": 10
        }
      ]
    },
    {
      "cell_type": "markdown",
      "source": [
        "# Analysis 1 :\n",
        "I have analyzed if patients from racial minority groups wait longer.\n",
        "\n",
        "This can help to maintain cultural equality by understanding if there is difference between wait time for different racial groups. It is useful for having the basic human rights to have equal opportunity for the availability of medical care."
      ],
      "metadata": {
        "id": "44IXppP-qktU"
      }
    },
    {
      "cell_type": "code",
      "source": [
        "# Separate the data into groups based on RACER column\n",
        "grouped_data = [ed2013['WAITTIME'][ed2013['RACER'] == racer] for racer in ed2013['RACER'].unique()]\n",
        "\n",
        "# Perform t-tests for all pairwise comparisons\n",
        "for i in range(len(grouped_data)):\n",
        "    for j in range(i + 1, len(grouped_data)):\n",
        "        racer1 = ed2013['RACER'].unique()[i]\n",
        "        racer2 = ed2013['RACER'].unique()[j]\n",
        "\n",
        "        # Assign names to the races as given in the data\n",
        "        if racer1 == 1:\n",
        "            racer1_name = \"White\"\n",
        "        elif racer1 == 2:\n",
        "            racer1_name = \"Black\"\n",
        "        else:\n",
        "            racer1_name = \"Others\"\n",
        "\n",
        "        if racer2 == 1:\n",
        "            racer2_name = \"White\"\n",
        "        elif racer2 == 2:\n",
        "            racer2_name = \"Black\"\n",
        "        else:\n",
        "            racer2_name = \"Others\"\n",
        "\n",
        "        t_statistic, p_value = ttest_ind(grouped_data[i], grouped_data[j])\n",
        "        print(f\"T-test between {racer1_name} and {racer2_name} races:\")\n",
        "        print(f\"T-statistic: {t_statistic.round(5)}\")\n",
        "        print(f\"P-value: {p_value}\")\n",
        "        print()"
      ],
      "metadata": {
        "colab": {
          "base_uri": "https://localhost:8080/"
        },
        "id": "T4jstH6yOlSa",
        "outputId": "1e26199b-6672-41f7-aa48-41113df72331"
      },
      "execution_count": null,
      "outputs": [
        {
          "output_type": "stream",
          "name": "stdout",
          "text": [
            "T-test between White and Black races:\n",
            "T-statistic: -9.46387\n",
            "P-value: 3.2338227012542342e-21\n",
            "\n",
            "T-test between White and Others races:\n",
            "T-statistic: -3.10125\n",
            "P-value: 0.001929917786361799\n",
            "\n",
            "T-test between Black and Others races:\n",
            "T-statistic: 1.05668\n",
            "P-value: 0.2906941227179418\n",
            "\n"
          ]
        }
      ]
    },
    {
      "cell_type": "code",
      "source": [
        "# Extract data for different races\n",
        "white = ed2013[ed2013['RACER'] == 1][['RACER', 'WAITTIME']]\n",
        "black = ed2013[ed2013['RACER'] == 2][['RACER', 'WAITTIME']]\n",
        "others = ed2013[ed2013['RACER'] == 3][['RACER', 'WAITTIME']]\n",
        "\n",
        "# Combine data for plotting\n",
        "combined_data = pd.concat([white, black, others])\n",
        "\n",
        "# Map numeric race codes to corresponding labels\n",
        "race_labels = {1: 'White', 2: 'Black', 3: 'Others'}\n",
        "combined_data['RACER_LABEL'] = combined_data['RACER'].map(race_labels)\n",
        "\n",
        "# Plot strip plot\n",
        "plt.figure(figsize=(10, 6))\n",
        "\n",
        "sns.stripplot(x='RACER_LABEL', y='WAITTIME', data=combined_data, jitter=True, palette=['blue', 'orange', 'green'])\n",
        "\n",
        "plt.title('Wait Time for Each Race', color = 'purple')\n",
        "plt.xlabel('Race', color = 'purple')\n",
        "plt.ylabel('Wait Time', color = 'purple')\n",
        "plt.show()\n"
      ],
      "metadata": {
        "colab": {
          "base_uri": "https://localhost:8080/",
          "height": 599
        },
        "id": "IkDFjwR4rX8V",
        "outputId": "9975807a-166d-4b04-ec47-251ed4633d3c"
      },
      "execution_count": null,
      "outputs": [
        {
          "output_type": "stream",
          "name": "stderr",
          "text": [
            "<ipython-input-12-530c1e7fe464>:16: FutureWarning: Passing `palette` without assigning `hue` is deprecated.\n",
            "  sns.stripplot(x='RACER_LABEL', y='WAITTIME', data=combined_data, jitter=True, palette=['blue', 'orange', 'green'])\n"
          ]
        },
        {
          "output_type": "display_data",
          "data": {
            "text/plain": [
              "<Figure size 1000x600 with 1 Axes>"
            ],
            "image/png": "[encoded data removed]"
          },
          "metadata": {}
        }
      ]
    },
    {
      "cell_type": "markdown",
      "source": [
        "The distribution is understood with this stirp plot."
      ],
      "metadata": {
        "id": "MLKJyANO0IZa"
      }
    },
    {
      "cell_type": "markdown",
      "source": [
        "# Analysis 2:\n",
        "In this analysis, it is concluded if wait times increase during holiday periods with the help of t-test.\n"
      ],
      "metadata": {
        "id": "xDQbz8nzruSD"
      }
    },
    {
      "cell_type": "code",
      "source": [
        "#convert wait time column to numeric data\n",
        "ed2013['WAITTIME'] = pd.to_numeric(ed2013['WAITTIME'], errors='coerce', downcast='integer')\n",
        "\n",
        "# Separate holiday and non-holiday data by including rows where VDAYR includes values 1 and 7.\n",
        "holiday = ed2013[ed2013['VDAYR'].isin([1, 7])]\n",
        "\n",
        "# Exclude rows where VDAYR is 1 or 2\n",
        "non_holiday = ed2013[~ed2013['VDAYR'].isin([1, 7])]\n",
        "\n",
        "#check if any nan(not a number) values are present to cross check\n",
        "print(\"NaN Values:\")\n",
        "print(holiday['WAITTIME'].isnull().sum())\n",
        "print(non_holiday['WAITTIME'].isnull().sum())"
      ],
      "metadata": {
        "colab": {
          "base_uri": "https://localhost:8080/"
        },
        "id": "dnPLnfjvfu5s",
        "outputId": "7198f499-c73a-4191-95ef-f975428686a3"
      },
      "execution_count": null,
      "outputs": [
        {
          "output_type": "stream",
          "name": "stdout",
          "text": [
            "NaN Values:\n",
            "0\n",
            "0\n"
          ]
        }
      ]
    },
    {
      "cell_type": "code",
      "source": [
        "# Perform t-test\n",
        "t_statistic, p_value = ttest_ind(holiday['VDAYR'], non_holiday['VDAYR'])\n",
        "\n",
        "# Print results\n",
        "print(\"T-test Results:\")\n",
        "print(f\"T-statistic: {t_statistic}\")\n",
        "print(f\"P-value: {p_value}\")\n",
        "\n",
        "# Interpret the results\n",
        "if (p_value < 0.05).any():  # We can adjust the significance level here as needed (here considering 0.05 which is generally used)\n",
        "    print(\"There is a significant difference in average wait times between holiday and non-holiday seasons.\")\n",
        "else:\n",
        "    print(\"There is no significant difference in average wait times between holiday and non-holiday seasons.\")\n",
        "\n"
      ],
      "metadata": {
        "colab": {
          "base_uri": "https://localhost:8080/"
        },
        "id": "KrCUmioT6c28",
        "outputId": "04084f5e-f16e-473d-e18d-a82109eac253"
      },
      "execution_count": null,
      "outputs": [
        {
          "output_type": "stream",
          "name": "stdout",
          "text": [
            "T-test Results:\n",
            "T-statistic: 1.4913463203617037\n",
            "P-value: 0.13588332546764406\n",
            "There is no significant difference in average wait times between holiday and non-holiday seasons.\n"
          ]
        }
      ]
    },
    {
      "cell_type": "markdown",
      "source": [
        "# Analysis 3:\n",
        "Here, the five most important numeric variables and the five most important categorical variables that can predict how long a patient will wait are found.\n",
        "\n",
        "Based on that, we can understand the major factors affecting the Wait Time.\n"
      ],
      "metadata": {
        "id": "2ujpx9JCr1_8"
      }
    },
    {
      "cell_type": "code",
      "source": [
        "# Replace StataMissingValue with NaN\n",
        "\n",
        "ed2013_1 = ed2013.apply(pd.to_numeric, errors='coerce')\n",
        "\n",
        "ed2013_1.replace('StataMissingValue', np.nan, inplace=True)\n",
        "\n",
        "ed2013_1.fillna(0, inplace=True)\n",
        "\n",
        "# Separate features (X) and target variable (y)\n",
        "X = ed2013_1.drop('WAITTIME', axis=1) #features\n",
        "y = ed2013_1['WAITTIME'] #target variable\n",
        "\n",
        "# Split the data into training and testing sets with test size as 20%\n",
        "X_train, X_test, y_train, y_test = train_test_split(X, y, test_size=0.2, random_state=42)\n",
        "\n",
        "# Fit the random forest model to the training data\n",
        "\n",
        "rf = RandomForestClassifier(random_state=0)\n",
        "\n",
        "rf.fit(X_train, y_train)\n",
        "\n",
        "# Calculate the accuracy\n",
        "acc = accuracy_score(y_test, rf.predict(X_test))\n",
        "\n",
        "# Print the importances per feature\n",
        "\n",
        "N = dict(zip(X.columns, rf.feature_importances_.round(5)))\n",
        "\n",
        "print(N)\n",
        "\n",
        "# Print accuracy\n",
        "print(f\"{acc:.1%} accuracy on test set.\")"
      ],
      "metadata": {
        "colab": {
          "base_uri": "https://localhost:8080/"
        },
        "id": "w5beGsX0r4Yb",
        "outputId": "d01d2599-b93e-4be4-dfa0-2a1cf31ed3d0"
      },
      "execution_count": null,
      "outputs": [
        {
          "output_type": "stream",
          "name": "stdout",
          "text": [
            "{'VMONTH': 0.01058, 'VDAYR': 0.00984, 'ARRTIME': 0.02009, 'LOV': 0.02136, 'AGE': 0.01382, 'AGER': 0.00792, 'AGEDAYS': 0.00127, 'RESIDNCE': 0.00211, 'SEX': 0.00427, 'ETHUN': 0.00399, 'ETHIM': 0.00239, 'RACEUN': 0.00534, 'RACER': 0.00385, 'RACERETH': 0.0051, 'ARREMS': 0.00332, 'NOPAY': 0.00054, 'PAYPRIV': 0.00364, 'PAYMCARE': 0.00243, 'PAYMCAID': 0.00348, 'PAYWKCMP': 0.00046, 'PAYSELF': 0.00267, 'PAYNOCHG': 0.00049, 'PAYOTH': 0.00147, 'PAYDK': 0.00138, 'PAYTYPER': 0.00847, 'TEMPF': 0.01349, 'PULSE': 0.01427, 'RESPR': 0.0103, 'BPSYS': 0.01317, 'BPDIAS': 0.01297, 'POPCT': 0.01025, 'ONO2': 0.00311, 'IMMEDR': 0.0092, 'PAINSCALE': 0.01021, 'SEEN72': 0.00315, 'RFV1': 0.01291, 'RFV2': 0.00946, 'RFV3': 0.00569, 'RFV13D': 0.01287, 'RFV23D': 0.00913, 'RFV33D': 0.00565, 'EPISODE': 0.00293, 'INJURY': 0.00317, 'INJR1': 0.0019, 'INJR2': 0.002, 'INJPOISAD': 0.00354, 'INJPOISADR1': 0.00235, 'INJPOISADR2': 0.00239, 'INTENT': 0.00232, 'INJDETR': 0.00446, 'INJDETR1': 0.00274, 'INJDETR2': 0.00302, 'CAUSE1': 0.00507, 'CAUSE2': 0.00258, 'CAUSE3': 0.00046, 'CAUSE13D': 0.00489, 'CAUSE23D': 0.00248, 'CAUSE33D': 0.00046, 'CAUSE1R': 0.00506, 'CAUSE2R': 0.00276, 'CAUSE3R': 0.00045, 'DIAG1': 0.00915, 'DIAG2': 0.00683, 'DIAG3': 0.00373, 'DIAG13D': 0.01402, 'DIAG23D': 0.00836, 'DIAG33D': 0.00434, 'PRDIAG1': 0.00069, 'PRDIAG2': 0.00349, 'PRDIAG3': 0.00229, 'DIAG1R': 0.01481, 'DIAG2R': 0.00852, 'DIAG3R': 0.00449, 'CANCER': 0.00082, 'CEBVD': 0.00062, 'COPD': 0.00081, 'EDDIAL': 0.00027, 'CHF': 0.00062, 'DEMENTIA': 0.00041, 'DIABETES': 0.00158, 'MIHX': 0.00059, 'DVT': 0.0003, 'EDHIV': 0.00027, 'NOCHRON': 0.00278, 'TOTCHRON': 0.00353, 'DIAGSCRN': 0.00343, 'ABG': 0.00047, 'BAC': 0.00052, 'BLOODCX': 0.00071, 'BNP': 0.00065, 'BUNCREAT': 0.00186, 'CARDENZ': 0.00114, 'CBC': 0.00273, 'DDIMER': 0.0007, 'ELECTROL': 0.00151, 'GLUCOSE': 0.00193, 'LACTATE': 0.00044, 'LFT': 0.00109, 'PTTINR': 0.0012, 'OTHERBLD': 0.00253, 'CARDMON': 0.00121, 'EKG': 0.00218, 'HIVTEST': 0.00026, 'FLUTEST': 0.00067, 'PREGTEST': 0.0015, 'TOXSCREN': 0.00084, 'URINE': 0.00267, 'WOUNDCX': 0.00036, 'URINECX': 0.00151, 'OTHRTEST': 0.00232, 'ANYIMAGE': 0.00341, 'XRAY': 0.00314, 'IVCONTRAST': 0.00017, 'CATSCAN': 0.00197, 'CTAB': 0.00108, 'CTCHEST': 0.00046, 'CTHEAD': 0.00141, 'CTOTHER': 0.00063, 'CTUNK': 0.00033, 'MRI': 0.0003, 'ULTRASND': 0.00106, 'OTHIMAGE': 0.0005, 'TOTDIAG': 0.00875, 'PROC': 0.00375, 'BPAP': 9e-05, 'BLADCATH': 0.00046, 'CASTSPLINT': 0.00131, 'CENTLINE': 0.0002, 'CPR': 4e-05, 'ENDOINT': 5e-05, 'INCDRAIN': 0.00041, 'IVFLUIDS': 0.00203, 'LUMBAR': 9e-05, 'NEBUTHER': 0.00068, 'PELVIC': 0.00063, 'SKINADH': 0.00042, 'SUTURE': 0.00075, 'OTHPROC': 0.00205, 'TOTPROC': 0.00488, 'MED': 0.00105, 'MED1': 0.01076, 'MED2': 0.00777, 'MED3': 0.00477, 'MED4': 0.0029, 'MED5': 0.00172, 'MED6': 0.00104, 'MED7': 0.0006, 'MED8': 0.00038, 'MED9': 0.00023, 'MED10': 0.00017, 'MED11': 0.00013, 'MED12': 0.00011, 'GPMED1': 0.00492, 'GPMED2': 0.00429, 'GPMED3': 0.00294, 'GPMED4': 0.00185, 'GPMED5': 0.00115, 'GPMED6': 0.00069, 'GPMED7': 0.00041, 'GPMED8': 0.00026, 'GPMED9': 0.00013, 'GPMED10': 0.00014, 'GPMED11': 9e-05, 'GPMED12': 7e-05, 'NUMGIV': 0.00559, 'NUMDIS': 0.00524, 'NUMMED': 0.0048, 'NOPROVID': 0.00017, 'ATTPHYS': 0.00527, 'RESINT': 0.0018, 'CONSULT': 0.00154, 'RNLPN': 0.0015, 'NURSEPR': 0.0018, 'PHYSASST': 0.00256, 'EMT': 0.00111, 'MHPROV': 0.00061, 'OTHPROV': 0.00311, 'NODISP': 0.00019, 'NOFU': 0.00211, 'RETRNED': 0.00204, 'RETREFFU': 0.00314, 'LEFTBTRI': 0.00017, 'LEFTATRI': 0.00326, 'LEFTAMA': 0.00045, 'DOA': 2e-05, 'DIEDED': 6e-05, 'TRANNH': 0.00024, 'TRANPSYC': 0.00028, 'TRANOTH': 0.00053, 'ADMITHOS': 0.0007, 'OBSHOS': 0.00013, 'OBSDIS': 0.0004, 'OTHDISP': 0.00093, 'ADMIT': 0.00119, 'ADMTPHYS': 0.00112, 'BOARDED': 0.00144, 'LOS': 0.00168, 'HDDIAG1': 0.00155, 'HDDIAG2': 0.00124, 'HDDIAG3': 0.00098, 'HDDIAG13D': 0.00168, 'HDDIAG23D': 0.00137, 'HDDIAG33D': 0.00102, 'HDDIAG1R': 0.00169, 'HDDIAG2R': 0.00129, 'HDDIAG3R': 0.00107, 'HDSTAT': 0.00087, 'ADISP': 0.00121, 'OBSSTAY': 0.00063, 'STAY24': 0.00347, 'AGEFL': 0.00034, 'BDATEFL': 7e-05, 'SEXFL': 0.00029, 'ETHNICFL': 0.0027, 'RACERFL': 0.00219, 'HOSPCODE': 0.01171, 'PATCODE': 0.01566, 'EBILLANYE': 0.0, 'EMRED': 0.0, 'HHSMUE': 0.0, 'EHRINSE': 0.0, 'EDEMOGE': 0.0, 'EDEMOGER': 0.0, 'EPROLSTE': 0.0, 'EPROLSTER': 0.0, 'EVITALE': 0.0, 'EVITALER': 0.0, 'ESMOKEE': 0.0, 'ESMOKEER': 0.0, 'EPNOTESE': 0.0, 'EPNOTESER': 0.0, 'EMEDALGE': 0.0, 'EMEDALGER': 0.0, 'ECPOEE': 0.0, 'ECPOEER': 0.0, 'ESCRIPE': 0.0, 'ESCRIPER': 0.0, 'EWARNE': 0.0, 'EWARNER': 0.0, 'EREMINDE': 0.0, 'EREMINDER': 0.0, 'ECTOEE': 0.0, 'ECTOEER': 0.0, 'EORDERE': 0.0, 'EORDERER': 0.0, 'ERESULTE': 0.0, 'ERESULTER': 0.0, 'EGRAPHE': 0.0, 'EGRAPHER': 0.0, 'EIMGRESE': 0.0, 'EIMGRESER': 0.0, 'EPTEDUE': 0.0, 'EPTEDUER': 0.0, 'ECQME': 0.0, 'ECQMER': 0.0, 'EGENLISTE': 0.0, 'EGENLISTER': 0.0, 'EIMMREGE': 0.0, 'EIMMREGER': 0.0, 'ESUME': 0.0, 'ESUMER': 0.0, 'EMSGE': 0.0, 'EMSGER': 0.0, 'EHLTHINFOE': 0.0, 'EHLTHINFOER': 0.0, 'EPTRECE': 0.0, 'EPTRECER': 0.0, 'EMEDIDE': 0.0, 'EMEDIDER': 0.0, 'ESHAREE': 0.0, 'ESHAREEHRE': 0.0, 'ESHAREWEBE': 0.0, 'ESHAREOTHE': 0.0, 'ESHAREUNKE': 0.0, 'ESHAREREFE': 0.0, 'LABRESE1': 0.0, 'LABRESE2': 0.0, 'LABRESE3': 0.0, 'LABRESE4': 0.0, 'LABRESUNKE': 0.0, 'LABRESREFE': 0.0, 'IMAGREPE1': 0.0, 'IMAGREPE2': 0.0, 'IMAGREPE3': 0.0, 'IMAGREPE4': 0.0, 'IMAGREPUNKE': 0.0, 'IMAGREPREFE': 0.0, 'PTPROBE1': 0.0, 'PTPROBE2': 0.0, 'PTPROBE3': 0.0, 'PTPROBE4': 0.0, 'PTPROBUNKE': 0.0, 'PTPROBREFE': 0.0, 'MEDLISTE1': 0.0, 'MEDLISTE2': 0.0, 'MEDLISTE3': 0.0, 'MEDLISTE4': 0.0, 'MEDLISTUNKE': 0.0, 'MEDLISTREFE': 0.0, 'ALGLISTE1': 0.0, 'ALGLISTE2': 0.0, 'ALGLISTE3': 0.0, 'ALGLISTE4': 0.0, 'ALGLISTUNKE': 0.0, 'ALGLISTREFE': 0.0, 'EDPRIM': 0.0, 'EDINFO': 0.0, 'MUINC': 0.0, 'MUYEAR': 0.0, 'OBSCLIN': 0.00254, 'OBSSEP': 0.00379, 'OBSPHYSED': 0.00291, 'OBSHOSP': 0.00303, 'OBSPHYSOT': 0.00322, 'OBSPHYSUN': 0.00236, 'BOARD': 0.00349, 'BOARDHOS': 0.00321, 'AMBDIV': 0.00361, 'TOTHRDIVR': 0.00475, 'REGDIV': 0.00415, 'ADMDIV': 0.00401, 'INCSHX': 0.00312, 'INCPHYS': 0.0027, 'EXPSPACE': 0.00441, 'BEDREG': 0.0016, 'KIOSELCHK': 0.0015, 'CATRIAGE': 0.00473, 'IMBED': 0.00334, 'ADVTRIAG': 0.00352, 'PHYSPRACTRIA': 0.00355, 'FASTTRAK': 0.00357, 'EDPTOR': 0.00171, 'DASHBORD': 0.00288, 'RFID': 0.00291, 'WIRELESS': 0.00367, 'ZONENURS': 0.00361, 'POOLNURS': 0.00386, 'SURGDAY': 0.00542, 'BEDCZAR': 0.00356, 'BEDDATA': 0.00371, 'HLIST': 0.00165, 'HLISTED': 0.00209, 'REGION': 0.00507, 'MSA': 0.00211, 'DRUGID1': 0.0, 'PRESCR1': 0.00391, 'CONTSUB1': 0.00383, 'COMSTAT1': 0.00315, 'RX1CAT1': 0.00949, 'RX1CAT2': 0.00305, 'RX1CAT3': 0.00061, 'RX1CAT4': 0.00029, 'RX1V1C1': 0.00662, 'RX1V1C2': 0.00268, 'RX1V1C3': 0.00056, 'RX1V1C4': 0.00028, 'RX1V2C1': 0.00835, 'RX1V2C2': 0.00279, 'RX1V2C3': 0.00063, 'RX1V2C4': 0.0003, 'RX1V3C1': 0.00794, 'RX1V3C2': 0.00155, 'RX1V3C3': 0.00058, 'RX1V3C4': 0.00026, 'DRUGID2': 0.0, 'PRESCR2': 0.00367, 'CONTSUB2': 0.00338, 'COMSTAT2': 0.0032, 'RX2CAT1': 0.00696, 'RX2CAT2': 0.00219, 'RX2CAT3': 0.00044, 'RX2CAT4': 0.0002, 'RX2V1C1': 0.00533, 'RX2V1C2': 0.00186, 'RX2V1C3': 0.00041, 'RX2V1C4': 0.00024, 'RX2V2C1': 0.00647, 'RX2V2C2': 0.00195, 'RX2V2C3': 0.00047, 'RX2V2C4': 0.00028, 'RX2V3C1': 0.006, 'RX2V3C2': 0.00131, 'RX2V3C3': 0.00043, 'RX2V3C4': 0.00027, 'DRUGID3': 0.0, 'PRESCR3': 0.00262, 'CONTSUB3': 0.00235, 'COMSTAT3': 0.00245, 'RX3CAT1': 0.00467, 'RX3CAT2': 0.00136, 'RX3CAT3': 0.00028, 'RX3CAT4': 0.00016, 'RX3V1C1': 0.00379, 'RX3V1C2': 0.00121, 'RX3V1C3': 0.00025, 'RX3V1C4': 0.00018, 'RX3V2C1': 0.00431, 'RX3V2C2': 0.0013, 'RX3V2C3': 0.00028, 'RX3V2C4': 0.00017, 'RX3V3C1': 0.0037, 'RX3V3C2': 0.00078, 'RX3V3C3': 0.00025, 'RX3V3C4': 0.00015, 'DRUGID4': 0.0, 'PRESCR4': 0.00163, 'CONTSUB4': 0.00158, 'COMSTAT4': 0.00154, 'RX4CAT1': 0.00276, 'RX4CAT2': 0.00084, 'RX4CAT3': 0.00022, 'RX4CAT4': 8e-05, 'RX4V1C1': 0.00231, 'RX4V1C2': 0.00079, 'RX4V1C3': 0.00019, 'RX4V1C4': 0.0001, 'RX4V2C1': 0.00267, 'RX4V2C2': 0.00084, 'RX4V2C3': 0.00018, 'RX4V2C4': 0.0001, 'RX4V3C1': 0.00218, 'RX4V3C2': 0.00049, 'RX4V3C3': 0.00018, 'RX4V3C4': 7e-05, 'DRUGID5': 0.0, 'PRESCR5': 0.00107, 'CONTSUB5': 0.00091, 'COMSTAT5': 0.00104, 'RX5CAT1': 0.00157, 'RX5CAT2': 0.00049, 'RX5CAT3': 0.00011, 'RX5CAT4': 4e-05, 'RX5V1C1': 0.0014, 'RX5V1C2': 0.00042, 'RX5V1C3': 9e-05, 'RX5V1C4': 4e-05, 'RX5V2C1': 0.00152, 'RX5V2C2': 0.00046, 'RX5V2C3': 0.00011, 'RX5V2C4': 5e-05, 'RX5V3C1': 0.00124, 'RX5V3C2': 0.00027, 'RX5V3C3': 8e-05, 'RX5V3C4': 5e-05, 'DRUGID6': 0.0, 'PRESCR6': 0.00066, 'CONTSUB6': 0.00058, 'COMSTAT6': 0.00059, 'RX6CAT1': 0.00094, 'RX6CAT2': 0.00029, 'RX6CAT3': 6e-05, 'RX6CAT4': 4e-05, 'RX6V1C1': 0.00082, 'RX6V1C2': 0.00027, 'RX6V1C3': 6e-05, 'RX6V1C4': 3e-05, 'RX6V2C1': 0.00094, 'RX6V2C2': 0.00031, 'RX6V2C3': 8e-05, 'RX6V2C4': 3e-05, 'RX6V3C1': 0.00071, 'RX6V3C2': 0.00015, 'RX6V3C3': 5e-05, 'RX6V3C4': 3e-05, 'DRUGID7': 0.0, 'PRESCR7': 0.0004, 'CONTSUB7': 0.00036, 'COMSTAT7': 0.00034, 'RX7CAT1': 0.00056, 'RX7CAT2': 0.00017, 'RX7CAT3': 4e-05, 'RX7CAT4': 3e-05, 'RX7V1C1': 0.00047, 'RX7V1C2': 0.00015, 'RX7V1C3': 3e-05, 'RX7V1C4': 2e-05, 'RX7V2C1': 0.00061, 'RX7V2C2': 0.00014, 'RX7V2C3': 3e-05, 'RX7V2C4': 1e-05, 'RX7V3C1': 0.0004, 'RX7V3C2': 9e-05, 'RX7V3C3': 4e-05, 'RX7V3C4': 2e-05, 'DRUGID8': 0.0, 'PRESCR8': 0.00021, 'CONTSUB8': 0.00021, 'COMSTAT8': 0.00024, 'RX8CAT1': 0.00033, 'RX8CAT2': 9e-05, 'RX8CAT3': 2e-05, 'RX8CAT4': 0.0, 'RX8V1C1': 0.00033, 'RX8V1C2': 0.0001, 'RX8V1C3': 1e-05, 'RX8V1C4': 0.0, 'RX8V2C1': 0.0003, 'RX8V2C2': 9e-05, 'RX8V2C3': 2e-05, 'RX8V2C4': 1e-05, 'RX8V3C1': 0.00028, 'RX8V3C2': 7e-05, 'RX8V3C3': 1e-05, 'RX8V3C4': 1e-05, 'DRUGID9': 0.0, 'PRESCR9': 0.00017, 'CONTSUB9': 0.00013, 'COMSTAT9': 0.00015, 'RX9CAT1': 0.00022, 'RX9CAT2': 6e-05, 'RX9CAT3': 1e-05, 'RX9CAT4': 1e-05, 'RX9V1C1': 0.00021, 'RX9V1C2': 5e-05, 'RX9V1C3': 1e-05, 'RX9V1C4': 0.0, 'RX9V2C1': 0.0002, 'RX9V2C2': 6e-05, 'RX9V2C3': 2e-05, 'RX9V2C4': 1e-05, 'RX9V3C1': 0.00014, 'RX9V3C2': 3e-05, 'RX9V3C3': 2e-05, 'RX9V3C4': 0.0, 'DRUGID10': 0.0, 'PRESCR10': 0.0001, 'CONTSUB10': 0.00011, 'COMSTAT10': 9e-05, 'RX10CAT1': 0.00015, 'RX10CAT2': 4e-05, 'RX10CAT3': 1e-05, 'RX10CAT4': 0.0, 'RX10V1C1': 0.00012, 'RX10V1C2': 4e-05, 'RX10V1C3': 2e-05, 'RX10V1C4': 0.0, 'RX10V2C1': 0.00013, 'RX10V2C2': 4e-05, 'RX10V2C3': 2e-05, 'RX10V2C4': 0.0, 'RX10V3C1': 0.00014, 'RX10V3C2': 2e-05, 'RX10V3C3': 1e-05, 'RX10V3C4': 0.0, 'DRUGID11': 0.0, 'PRESCR11': 8e-05, 'CONTSUB11': 7e-05, 'COMSTAT11': 8e-05, 'RX11CAT1': 0.00011, 'RX11CAT2': 3e-05, 'RX11CAT3': 0.0, 'RX11CAT4': 0.0, 'RX11V1C1': 0.00011, 'RX11V1C2': 4e-05, 'RX11V1C3': 0.0, 'RX11V1C4': 0.0, 'RX11V2C1': 0.0001, 'RX11V2C2': 2e-05, 'RX11V2C3': 0.0, 'RX11V2C4': 0.0, 'RX11V3C1': 7e-05, 'RX11V3C2': 2e-05, 'RX11V3C3': 1e-05, 'RX11V3C4': 0.0, 'DRUGID12': 0.0, 'PRESCR12': 6e-05, 'CONTSUB12': 4e-05, 'COMSTAT12': 7e-05, 'RX12CAT1': 8e-05, 'RX12CAT2': 1e-05, 'RX12CAT3': 0.0, 'RX12CAT4': 0.0, 'RX12V1C1': 7e-05, 'RX12V1C2': 2e-05, 'RX12V1C3': 0.0, 'RX12V1C4': 0.0, 'RX12V2C1': 6e-05, 'RX12V2C2': 2e-05, 'RX12V2C3': 0.0, 'RX12V2C4': 0.0, 'RX12V3C1': 5e-05, 'RX12V3C2': 1e-05, 'RX12V3C3': 0.0, 'RX12V3C4': 0.0, 'SETTYPE': 0.0, 'YEAR': 0.0, 'CSTRATM': 0.00713, 'CPSUM': 0.01156, 'PATWT': 0.01267, 'EDWT': 0.0}\n",
            "19.2% accuracy on test set.\n"
          ]
        }
      ]
    },
    {
      "cell_type": "code",
      "source": [
        "#numerical and categorical data\n",
        "numerical_columns = ed2013.select_dtypes(include=['number']).columns\n",
        "categorical_columns = ed2013.select_dtypes(include='object').columns"
      ],
      "metadata": {
        "id": "bJY9qClivQDQ"
      },
      "execution_count": null,
      "outputs": []
    },
    {
      "cell_type": "code",
      "source": [
        "from operator import itemgetter\n",
        "# find top 5 categorical columns to predict wait time\n",
        "top_categorical_values = {}\n",
        "\n",
        "for key in N:\n",
        "    if key in categorical_columns:\n",
        "        top_categorical_values[key] = N[key]\n",
        "\n",
        "# Sort the dictionary by values and get the top 5 items\n",
        "sorted_top_categorical_values = dict(sorted(top_categorical_values.items(), key=itemgetter(1), reverse=True)[:5])\n",
        "\n",
        "print(sorted_top_categorical_values)"
      ],
      "metadata": {
        "colab": {
          "base_uri": "https://localhost:8080/"
        },
        "id": "B7g1EQrOwqG4",
        "outputId": "1e1e3212-e120-4669-9df3-21d359e5f077"
      },
      "execution_count": null,
      "outputs": [
        {
          "output_type": "stream",
          "name": "stdout",
          "text": [
            "{'ARRTIME': 0.02009, 'DIAG13D': 0.01402, 'RX1CAT1': 0.00949, 'DIAG1': 0.00915, 'DIAG23D': 0.00836}\n"
          ]
        }
      ]
    },
    {
      "cell_type": "code",
      "source": [
        "# top find top 5 numerical columns to predict wait time\n",
        "top_num_values = {}\n",
        "\n",
        "for key in N:\n",
        "    if key in numerical_columns:\n",
        "        top_num_values[key] = N[key]\n",
        "\n",
        "# Sort the dictionary by values and get the top 5 items\n",
        "sorted_top_num_values = dict(sorted(top_num_values.items(), key=itemgetter(1), reverse=True)[:5])\n",
        "\n",
        "print(sorted_top_num_values)"
      ],
      "metadata": {
        "colab": {
          "base_uri": "https://localhost:8080/"
        },
        "id": "9dp_0H4xwsGG",
        "outputId": "70d333fd-6818-4e63-e711-dd3d7e334bb1"
      },
      "execution_count": null,
      "outputs": [
        {
          "output_type": "stream",
          "name": "stdout",
          "text": [
            "{'LOV': 0.02136, 'PATCODE': 0.01566, 'DIAG1R': 0.01481, 'PULSE': 0.01427, 'AGE': 0.01382}\n"
          ]
        }
      ]
    }
  ]
}